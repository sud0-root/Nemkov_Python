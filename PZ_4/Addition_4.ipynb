{
 "cells": [
  {
   "cell_type": "code",
   "execution_count": null,
   "metadata": {},
   "outputs": [
    {
     "name": "stdout",
     "output_type": "stream",
     "text": [
      "Сумма чисел: 4\n",
      "Количество отрицательных чисел: 1\n"
     ]
    }
   ],
   "source": [
    "#1. Ввести 4 числа. Найти и вывести на экран сумму и количество отрицательных\n",
    "#чисел.\n",
    "\n",
    "sum = 0\n",
    "negative_count = 0\n",
    "\n",
    "for i in range(4):\n",
    "    num = int(input(\"Введите число: \"))\n",
    "    sum += num\n",
    "    if num < 0:\n",
    "        negative_count += 1\n",
    "\n",
    "\n",
    "print(\"Сумма чисел:\", sum)\n",
    "print(\"Количество отрицательных чисел:\", negative_count)\n"
   ]
  },
  {
   "cell_type": "code",
   "execution_count": null,
   "metadata": {},
   "outputs": [
    {
     "name": "stdout",
     "output_type": "stream",
     "text": [
      "Количество четных чисел: 3\n"
     ]
    }
   ],
   "source": [
    "#2. Ввести 4 числа. Найти и вывести на экран количество четных чисел.\n",
    "\n",
    "count_even = 0\n",
    "for i in range(4):\n",
    "    num = int(input(\"Введите число: \"))\n",
    "    if num % 2 == 0:\n",
    "        count_even += 1\n",
    "\n",
    "\n",
    "print(\"Количество четных чисел:\", count_even)"
   ]
  },
  {
   "cell_type": "code",
   "execution_count": 8,
   "metadata": {},
   "outputs": [
    {
     "name": "stdout",
     "output_type": "stream",
     "text": [
      "2^2 = 4, 2^3 = 8\n",
      "3^2 = 9, 3^3 = 27\n",
      "4^2 = 16, 4^3 = 64\n",
      "5^2 = 25, 5^3 = 125\n"
     ]
    }
   ],
   "source": [
    "#3. Найти и вывести на экран квадраты и кубы чисел от 2 до 5.\n",
    "\n",
    "for i in range(2, 6):\n",
    "    square = i ** 2\n",
    "    cube = i ** 3\n",
    "    print(f\"{i}^2 = {square}, {i}^3 = {cube}\")"
   ]
  },
  {
   "cell_type": "code",
   "execution_count": 6,
   "metadata": {},
   "outputs": [
    {
     "name": "stdout",
     "output_type": "stream",
     "text": [
      "Сумма факториалов от 1 до 3 равняется 9\n"
     ]
    }
   ],
   "source": [
    "#4. Найти и вывести на экран S=1!+2!+3!+4!+…+n! (n>1).\n",
    "\n",
    "n = int(input(\"Введите n (n > 1): \"))\n",
    "\n",
    "# Проверка условия n > 1\n",
    "if n <= 1:\n",
    "    print(\"n должно быть больше 1\")\n",
    "else:\n",
    "    s = 0\n",
    "    for i in range(1, n + 1):\n",
    "        factorial = 1\n",
    "        for j in range(1, i + 1):\n",
    "            factorial *= j\n",
    "        s += factorial\n",
    "    print(\"Сумма факториалов от 1 до\", n, \"равняется\", s)"
   ]
  },
  {
   "cell_type": "code",
   "execution_count": 6,
   "metadata": {},
   "outputs": [
    {
     "name": "stdout",
     "output_type": "stream",
     "text": [
      "Среднее арифметическое: 30.0\n"
     ]
    }
   ],
   "source": [
    "#5. Ввести N чисел. Найти и вывести их среднее арифметическое.\n",
    "\n",
    "N = int(input(\"Введите N: \"))\n",
    "\n",
    "sum = 0\n",
    "\n",
    "\n",
    "for i in range(N):\n",
    "    num = int(input(\"Введите число: \"))\n",
    "    sum += num\n",
    "\n",
    "average = sum / N\n",
    "print(\"Среднее арифметическое:\", average)\n",
    "\n"
   ]
  },
  {
   "cell_type": "code",
   "execution_count": 8,
   "metadata": {},
   "outputs": [
    {
     "name": "stdout",
     "output_type": "stream",
     "text": [
      "Количество чисел равных нулю: 3\n"
     ]
    }
   ],
   "source": [
    "#6. Ввести N чисел. Посчитать и вывести количество чисел равных нулю.\n",
    "N = int(input(\"Введите N: \"))\n",
    "\n",
    "count_zero = 0\n",
    "\n",
    "for i in range(N):\n",
    "    num = int(input(\"Введите число: \"))\n",
    "    if num == 0:\n",
    "        count_zero += 1\n",
    "\n",
    "print(\"Количество чисел равных нулю:\", count_zero)"
   ]
  },
  {
   "cell_type": "code",
   "execution_count": 4,
   "metadata": {},
   "outputs": [
    {
     "name": "stdout",
     "output_type": "stream",
     "text": [
      "20\n",
      "19\n",
      "18\n",
      "17\n",
      "16\n",
      "15\n",
      "14\n",
      "13\n",
      "12\n",
      "11\n",
      "10\n",
      "Количество чисел: 11\n"
     ]
    }
   ],
   "source": [
    "#7. Даны два целых числа A и B (A < B). Вывести в порядке убывания все целые числа,\n",
    "# расположенные между A и B (включая сами числа A и B), а также количество этих\n",
    "# чисел (использовать оператор цикла).\n",
    "\n",
    "A = int(input(\"Введите число A: \"))\n",
    "B = int(input(\"Введите число B: \"))\n",
    "\n",
    "if A > B:\n",
    "    A, B = B, A\n",
    "\n",
    "count = 0\n",
    "for i in range(B, A - 1, -1):\n",
    "    print(i)\n",
    "    count += 1\n",
    "\n",
    "print(\"Количество чисел:\", count)"
   ]
  },
  {
   "cell_type": "code",
   "execution_count": null,
   "metadata": {},
   "outputs": [
    {
     "name": "stdout",
     "output_type": "stream",
     "text": [
      "Сумма чисел от 10 до 20 включительно: 165\n"
     ]
    }
   ],
   "source": [
    "#8. Вводятся два целых числа А и В (А < В). Найти сумму всех целых чисел от А до В\n",
    "# включительно (использовать оператор цикла).\n",
    "A = int(input(\"Введите число А: \"))\n",
    "B = int(input(\"Введите число В: \"))\n",
    "\n",
    "sum = 0\n",
    "for i in range(A, B + 1):\n",
    "    sum += i\n",
    "print(f\"Сумма чисел от {A} до {B} включительно: {sum}\")"
   ]
  },
  {
   "cell_type": "code",
   "execution_count": null,
   "metadata": {},
   "outputs": [
    {
     "name": "stdout",
     "output_type": "stream",
     "text": [
      "Числа Фибоначчи:  [0, 1, 1, 2, 3, 5, 8, 13, 21, 34]\n",
      "Количество четных чисел:  4\n"
     ]
    }
   ],
   "source": [
    "#9. Вывести первые N (N≥3) чисел Фибоначчи и посчитать количество четных чисел. \n",
    "\n",
    "def fibonacci_sequence(n):\n",
    "    a, b = 0, 1\n",
    "    fib_seq = [a]\n",
    "    for _ in range(n-1):\n",
    "        a, b = b, a + b\n",
    "        fib_seq.append(a)\n",
    "    return fib_seq\n",
    "\n",
    "n = int(input(\"Введите количество чисел Фибоначчи для генерации: \"))\n",
    "fib_numbers = fibonacci_sequence(n)\n",
    "\n",
    "print(\"Числа Фибоначчи: \", fib_numbers)\n",
    "\n",
    "even_count = sum(1 for num in fib_numbers if num % 2 == 0)\n",
    "print(\"Количество четных чисел: \", even_count)\n"
   ]
  }
 ],
 "metadata": {
  "kernelspec": {
   "display_name": "Python 3",
   "language": "python",
   "name": "python3"
  },
  "language_info": {
   "codemirror_mode": {
    "name": "ipython",
    "version": 3
   },
   "file_extension": ".py",
   "mimetype": "text/x-python",
   "name": "python",
   "nbconvert_exporter": "python",
   "pygments_lexer": "ipython3",
   "version": "3.12.1"
  }
 },
 "nbformat": 4,
 "nbformat_minor": 2
}
