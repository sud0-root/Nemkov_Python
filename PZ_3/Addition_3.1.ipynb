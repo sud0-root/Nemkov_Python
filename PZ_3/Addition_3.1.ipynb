{
 "cells": [
  {
   "cell_type": "code",
   "execution_count": null,
   "metadata": {},
   "outputs": [
    {
     "name": "stdout",
     "output_type": "stream",
     "text": [
      "2\n"
     ]
    }
   ],
   "source": [
    "# Add 5: Дано два числа. Если их сумма кратна 5, то прибавить 1, иначе вычесть 2.\n",
    "num1 = int(input(\"Введите первое число: \"))\n",
    "num2 = int(input(\"Введите второе число: \"))\n",
    "summa = num1 + num2\n",
    "if summa % 5 == 0:\n",
    "    summa += 1\n",
    "else:\n",
    "    summa -= 1\n",
    "\n",
    "print(summa)\n",
    "    "
   ]
  },
  {
   "cell_type": "code",
   "execution_count": null,
   "metadata": {},
   "outputs": [
    {
     "name": "stdout",
     "output_type": "stream",
     "text": [
      "35\n"
     ]
    }
   ],
   "source": [
    "# Add 4: Дано целое число. Если оно является положительным, то прибавить к нему 20, в\n",
    "# противном случае вычесть из него 5. \n",
    "num = int(input(\"Введите целое число: \"))\n",
    "\n",
    "if num > 0:\n",
    "    num += 20\n",
    "else:\n",
    "    num -= 5\n",
    "\n",
    "print(num)"
   ]
  },
  {
   "cell_type": "code",
   "execution_count": null,
   "metadata": {},
   "outputs": [
    {
     "name": "stdout",
     "output_type": "stream",
     "text": [
      "19\n"
     ]
    }
   ],
   "source": [
    "# Add 3: Ввести двухзначное число. Если сумма цифр числа четная, то увеличить число на 2,\n",
    "# в противном случае уменьшить на 2.\n",
    "\n",
    "num = int(input(\"Введите двухзначное число: \"))\n",
    "\n",
    "a = num // 10\n",
    "b = num % 10\n",
    "\n",
    "if (a + b) % 2 == 0:\n",
    "    num += 2\n",
    "else:\n",
    "    num -= 2\n",
    "\n",
    "print(num)"
   ]
  },
  {
   "cell_type": "code",
   "execution_count": null,
   "metadata": {},
   "outputs": [
    {
     "name": "stdout",
     "output_type": "stream",
     "text": [
      "0.5\n"
     ]
    }
   ],
   "source": [
    "# Add 2: Вести число. Если оно четное, разделить его на 4, если нечетное - умножить на 5.\n",
    "num = int(input(\"Введите число: \"))\n",
    "\n",
    "if num % 2 == 0:\n",
    "    result = num / 4\n",
    "else:\n",
    "    result = num * 5\n",
    "\n",
    "print(result)"
   ]
  },
  {
   "cell_type": "code",
   "execution_count": null,
   "metadata": {},
   "outputs": [
    {
     "name": "stdout",
     "output_type": "stream",
     "text": [
      "30.0\n"
     ]
    }
   ],
   "source": [
    "# Add 1: Ввести 2 числа. Если их произведение отрицательно, умножить его на 8, в противном\n",
    "#случае увеличить его в 1.5 раза.\n",
    "\n",
    "num1 = float(input(\"Введите первое число: \"))\n",
    "num2 = float(input(\"Введите второе число: \"))\n",
    "\n",
    "product = num1 * num2\n",
    "\n",
    "if product < 0:\n",
    "    result = product * 8\n",
    "else:\n",
    "    result = product * 1.5\n",
    "\n",
    "print(result)"
   ]
  }
 ],
 "metadata": {
  "kernelspec": {
   "display_name": "Python 3",
   "language": "python",
   "name": "python3"
  },
  "language_info": {
   "codemirror_mode": {
    "name": "ipython",
    "version": 3
   },
   "file_extension": ".py",
   "mimetype": "text/x-python",
   "name": "python",
   "nbconvert_exporter": "python",
   "pygments_lexer": "ipython3",
   "version": "3.12.1"
  }
 },
 "nbformat": 4,
 "nbformat_minor": 2
}
